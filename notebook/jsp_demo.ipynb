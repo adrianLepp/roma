{
 "cells": [
  {
   "cell_type": "markdown",
   "metadata": {},
   "source": [
    "### Launch the ROS demo"
   ]
  },
  {
   "cell_type": "code",
   "execution_count": 1,
   "metadata": {},
   "outputs": [],
   "source": [
    "%%bash --bg\n",
    "trap 'kill $(jobs -p)' EXIT\n",
    "xterm -e /bin/bash -l -c \"roslaunch demo.launch\""
   ]
  },
  {
   "cell_type": "markdown",
   "metadata": {},
   "source": [
    "### Python Code\n",
    "Import rospy and initialize a python ROS node"
   ]
  },
  {
   "cell_type": "code",
   "execution_count": 2,
   "metadata": {},
   "outputs": [],
   "source": [
    "import rospy\n",
    "rospy.init_node('mynode')"
   ]
  },
  {
   "cell_type": "markdown",
   "metadata": {},
   "source": [
    "Import and instantiate the robot model"
   ]
  },
  {
   "cell_type": "code",
   "execution_count": 3,
   "metadata": {},
   "outputs": [
    {
     "name": "stdout",
     "output_type": "stream",
     "text": [
      "Error: Child not found\n",
      "Error: Child not found\n"
     ]
    }
   ],
   "source": [
    "from robot_model import RobotModel\n",
    "robot = RobotModel()"
   ]
  },
  {
   "cell_type": "markdown",
   "metadata": {},
   "source": [
    "Create a publisher and `JointState` message"
   ]
  },
  {
   "cell_type": "code",
   "execution_count": 4,
   "metadata": {},
   "outputs": [],
   "source": [
    "from sensor_msgs.msg import JointState\n",
    "pub = rospy.Publisher('/target_joint_states', JointState, queue_size=1)\n",
    "msg = JointState()"
   ]
  },
  {
   "cell_type": "markdown",
   "metadata": {},
   "source": [
    "Create a list of slider widgets, one for each joint"
   ]
  },
  {
   "cell_type": "code",
   "execution_count": 5,
   "metadata": {},
   "outputs": [],
   "source": [
    "import ipywidgets\n",
    "from ipywidgets import FloatSlider, Layout, Button, Box\n",
    "joint_widgets = [FloatSlider(min = j.min, max = j.max, step = (j.max-j.min) / 100, description = j.name) \\\n",
    "                 for j in robot.active_joints]"
   ]
  },
  {
   "cell_type": "markdown",
   "metadata": {},
   "source": [
    "Define a callback function to compute the forward-kinematics and publish a frame marker"
   ]
  },
  {
   "cell_type": "code",
   "execution_count": 6,
   "metadata": {},
   "outputs": [],
   "source": [
    "from markers import frame, MarkerArray\n",
    "marker_pub = rospy.Publisher('/marker_array', MarkerArray, queue_size=1)\n",
    "\n",
    "def publish_fk_marker():\n",
    "    T, _ = robot.fk(link='Hand_Base', joints={j.description: j.value for j in joint_widgets})\n",
    "    marker_pub.publish(frame(T))"
   ]
  },
  {
   "cell_type": "markdown",
   "metadata": {},
   "source": [
    "React to slider (value) changes by publishing this particular joint as well as the updated FK marker"
   ]
  },
  {
   "cell_type": "code",
   "execution_count": 7,
   "metadata": {},
   "outputs": [],
   "source": [
    "def on_sent(event):\n",
    "    widget = event.owner\n",
    "    msg.name = [widget.description]\n",
    "    msg.position = [widget.value]\n",
    "    pub.publish(msg)\n",
    "    publish_fk_marker()\n",
    "\n",
    "for widget in joint_widgets:\n",
    "    widget.observe(on_sent, 'value')"
   ]
  },
  {
   "cell_type": "markdown",
   "metadata": {},
   "source": [
    "Create a button to randomly generate a pose within joint limits"
   ]
  },
  {
   "cell_type": "code",
   "execution_count": 8,
   "metadata": {},
   "outputs": [],
   "source": [
    "def set_joints(values):\n",
    "    for widget, value in values:\n",
    "        widget.unobserve(on_sent, 'value')\n",
    "        widget.value = value\n",
    "        widget.observe(on_sent, 'value')\n",
    "    msg.name, msg.position = zip(*[(widget.description, widget.value) for widget in joint_widgets])\n",
    "    pub.publish(msg)\n",
    "    publish_fk_marker()\n",
    "\n",
    "import random\n",
    "def on_randomize(randomize):\n",
    "    set_joints([(widget, random.uniform(widget.min, widget.max)) for widget in joint_widgets])\n",
    "\n",
    "randomize = Button(description='Randomize')       \n",
    "randomize.on_click(on_randomize)"
   ]
  },
  {
   "cell_type": "markdown",
   "metadata": {},
   "source": [
    "Create a button to center all joints within their limits"
   ]
  },
  {
   "cell_type": "code",
   "execution_count": 9,
   "metadata": {},
   "outputs": [],
   "source": [
    "def on_center(b):\n",
    "    set_joints([(widget, (widget.min + widget.max) / 2) for widget in joint_widgets])\n",
    "\n",
    "center = Button(description='Center')\n",
    "center.on_click(on_center)"
   ]
  },
  {
   "cell_type": "markdown",
   "metadata": {},
   "source": [
    "Collect all widgets (sliders and buttons) in a form and display them"
   ]
  },
  {
   "cell_type": "code",
   "execution_count": 10,
   "metadata": {
    "scrolled": false
   },
   "outputs": [
    {
     "data": {
      "application/vnd.jupyter.widget-view+json": {
       "model_id": "0ecb3ed416ec4251a1364a096cfeff20",
       "version_major": 2,
       "version_minor": 0
      },
      "text/plain": [
       "Box(children=(FloatSlider(value=0.0, description='arm1_joint_Gelenk', max=1.0, min=-1.0, step=0.02), FloatSlid…"
      ]
     },
     "metadata": {},
     "output_type": "display_data"
    }
   ],
   "source": [
    "form_items = list(joint_widgets)\n",
    "form_items += [Box([center, randomize])]\n",
    "\n",
    "form = Box(form_items, layout=Layout(\n",
    "    display='flex',\n",
    "    flex_flow='column',\n",
    "    border='solid 2px',\n",
    "    align_items='stretch',\n",
    "    width='100%'\n",
    "))\n",
    "display(form)"
   ]
  },
  {
   "cell_type": "code",
   "execution_count": 16,
   "metadata": {},
   "outputs": [],
   "source": [
    "#Task 5.4: Write a small python program / snippet to compute the circular motion of a point around the\n",
    "#origin in the x-y-plane and publish a new marker to visualize this motion in rviz.\n",
    "import numpy as np\n",
    "\n",
    "\n",
    "for i in range(360):\n",
    "    rospy.sleep(0.1)\n",
    "    T2 = np.eye(4)\n",
    "    T2[0,3] = np.cos(np.radians(i))\n",
    "    T2[1,3] = np.sin(np.radians(i))\n",
    "    marker_pub.publish(frame(T2))"
   ]
  },
  {
   "cell_type": "code",
   "execution_count": null,
   "metadata": {},
   "outputs": [],
   "source": []
  }
 ],
 "metadata": {
  "kernelspec": {
   "display_name": "Python 3",
   "language": "python",
   "name": "python3"
  },
  "language_info": {
   "codemirror_mode": {
    "name": "ipython",
    "version": 3
   },
   "file_extension": ".py",
   "mimetype": "text/x-python",
   "name": "python",
   "nbconvert_exporter": "python",
   "pygments_lexer": "ipython3",
   "version": "3.10.12"
  }
 },
 "nbformat": 4,
 "nbformat_minor": 2
}
